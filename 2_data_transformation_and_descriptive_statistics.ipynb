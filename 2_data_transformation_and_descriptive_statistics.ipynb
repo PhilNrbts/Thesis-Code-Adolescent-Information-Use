{
 "cells": [
  {
   "cell_type": "markdown",
   "metadata": {},
   "source": [
    "# 1.Call libraries, functions, and clean data initially"
   ]
  },
  {
   "cell_type": "code",
   "execution_count": 12,
   "metadata": {
    "dotnet_interactive": {
     "language": "csharp"
    },
    "polyglot_notebook": {
     "kernelName": "csharp"
    },
    "vscode": {
     "languageId": "r"
    }
   },
   "outputs": [
    {
     "name": "stderr",
     "output_type": "stream",
     "text": [
      "\u001b[1mRows: \u001b[22m\u001b[34m6000\u001b[39m \u001b[1mColumns: \u001b[22m\u001b[34m24\u001b[39m\n",
      "\u001b[36m──\u001b[39m \u001b[1mColumn specification\u001b[22m \u001b[36m────────────────────────────────────────────────────────\u001b[39m\n",
      "\u001b[1mDelimiter:\u001b[22m \",\"\n",
      "\u001b[31mchr\u001b[39m  (4): group, social_info_use, performance_group_f, demo_type\n",
      "\u001b[32mdbl\u001b[39m (20): points, cells, social_info, unique_rounds, env_number, gender, soc...\n",
      "\n",
      "\u001b[36mℹ\u001b[39m Use `spec()` to retrieve the full column specification for this data.\n",
      "\u001b[36mℹ\u001b[39m Specify the column types or set `show_col_types = FALSE` to quiet this message.\n"
     ]
    },
    {
     "name": "stdout",
     "output_type": "stream",
     "text": [
      "[1] \"75 rows excluded. Call 'miss' dataframe to check.\"\n"
     ]
    }
   ],
   "source": [
    "# Loading required libraries\n",
    "pacman::p_load(tidyverse, rjson, DEoptim, doParallel, readr, here, jsonlite, modi, gplots)\n",
    "knitr::opts_chunk$set(echo = TRUE)\n",
    "\n",
    "source(\"functions/functions_behavioral_action_analysis.R\")\n",
    "source(\"functions/functions_data_modification_action_analysis.R\")\n",
    "#source(\"functions_behavioral_action_analysis.R\")\n",
    "#source(\"functions_behavior_phases.R\")\n",
    "\n",
    "library(tidyverse)\n",
    "library(readr)\n",
    "library(dplyr)\n",
    "\n",
    "raw_data <- read_csv(\"data/data_social_all_participants.csv\")\n",
    "data <- select_important_variables(raw_data)\n",
    "\n",
    "#Now, we are going to check if the data\n",
    "miss <- check_for_clean(data)\n",
    "data <- clean_data(data)\n",
    "\n",
    "trim_data <- process_data(data, trim_beyond_gem = TRUE)\n",
    "ntrim_data <- process_data(data, trim_beyond_gem = FALSE)\n",
    "summary_data <- create_summary_data(ntrim_data)\n",
    "ntrim_data <- determine_social_information(ntrim_data)\n"
   ]
  },
  {
   "cell_type": "markdown",
   "metadata": {},
   "source": [
    "# 2. Determine descriptive statistics about data set"
   ]
  },
  {
   "cell_type": "code",
   "execution_count": 13,
   "metadata": {
    "dotnet_interactive": {
     "language": "csharp"
    },
    "polyglot_notebook": {
     "kernelName": "csharp"
    },
    "vscode": {
     "languageId": "r"
    }
   },
   "outputs": [
    {
     "data": {
      "text/plain": [
       "\n",
       " 1 \n",
       "10 "
      ]
     },
     "metadata": {},
     "output_type": "display_data"
    },
    {
     "data": {
      "text/html": [
       "0"
      ],
      "text/latex": [
       "0"
      ],
      "text/markdown": [
       "0"
      ],
      "text/plain": [
       "[1] 0"
      ]
     },
     "metadata": {},
     "output_type": "display_data"
    },
    {
     "data": {
      "text/html": [
       "10"
      ],
      "text/latex": [
       "10"
      ],
      "text/markdown": [
       "10"
      ],
      "text/plain": [
       "[1] 10"
      ]
     },
     "metadata": {},
     "output_type": "display_data"
    }
   ],
   "source": [
    "## Nothing here yet\n",
    "descriptive_data <- raw_data %>%\n",
    "  select(uniqueID, gender, group, tot_points) %>%\n",
    "  distinct(uniqueID, .keep_all = TRUE)\n",
    "\n",
    "table(subset(descriptive_data, group == \"adolescents\", select = gender)$gender)\n",
    "\n",
    "nrow(subset(descriptive_data,group == \"adults\"))\n",
    "nrow(subset(descriptive_data,group == \"adolescents\"))"
   ]
  },
  {
   "cell_type": "markdown",
   "metadata": {},
   "source": [
    "# 3. Create action_data set for the action analyses"
   ]
  },
  {
   "cell_type": "markdown",
   "metadata": {},
   "source": [
    "## a. First overall transformation from data to action_data and summary_data with social information"
   ]
  },
  {
   "cell_type": "code",
   "execution_count": 14,
   "metadata": {
    "vscode": {
     "languageId": "r"
    }
   },
   "outputs": [],
   "source": [
    "# We dedicate a unique data set to action and transform data from there.\n",
    "\n",
    "action_data <- process_data(data, trim_beyond_gem = FALSE)\n",
    "action_summary_data <- create_summary_data(action_data)\n",
    "\n",
    "action_data <- determine_social_information(action_data)\n",
    "action_summary_data <- add_social_value_variables(action_data, action_summary_data)\n",
    "\n",
    "action_data <- create_action_data(action_data)\n",
    "\n",
    "#Was determined in the actual analyses\n",
    "action_data <- add_social_cluster(action_data)\n",
    "player_summary_data_gem_found <- create_player_summary(action_summary_data,1)\n",
    "player_summary_data_gem_not_found <- create_player_summary(action_summary_data,0)\n",
    "player_summary_data_full <- create_player_summary(action_summary_data,2)"
   ]
  },
  {
   "cell_type": "markdown",
   "metadata": {},
   "source": [
    "## b. Specific datasets for each of the three actions"
   ]
  },
  {
   "cell_type": "code",
   "execution_count": 9,
   "metadata": {
    "vscode": {
     "languageId": "r"
    }
   },
   "outputs": [
    {
     "name": "stderr",
     "output_type": "stream",
     "text": [
      "\u001b[1m\u001b[22m`summarise()` has grouped output by 'player'. You can override using the\n",
      "`.groups` argument.\n",
      "\u001b[1m\u001b[22m`summarise()` has grouped output by 'player'. You can override using the\n",
      "`.groups` argument.\n"
     ]
    }
   ],
   "source": [
    "###i. Personal Exploration\n",
    "\n",
    "pers_explore_data <- action_data %>% filter(social_info_use == \"ignore\", known_cell == FALSE)\n",
    "\n",
    "#Either excluding or including missmatches and missing values. I decided to include them, except for checking effects of exclusion.\n",
    "\n",
    "pers_explore_data <- pers_explore_data[!is.na(pers_explore_data$previous_points) & !is.na(pers_explore_data$points),]\n",
    "\n",
    "player_pers_explore_summary <- create_player_pers_explore_summary(pers_explore_data)\n",
    "\n",
    "average_pers_explore_summary <- create_average_pers_explore_summary(pers_explore_data)\n",
    "\n",
    "trial_pers_explore_summary <- create_trial_pers_explore_summary(pers_explore_data)\n",
    "\n",
    "\n",
    "###ii. Social Exploration\n",
    "\n",
    "soc_explore_data <- action_data %>% filter(social_info_use == \"copy\", known_cell == FALSE, social_value>0)\n",
    "soc_copy_data <- action_data %>% filter(social_info_use == \"copy\", gem_found == 0)\n",
    "\n",
    "#Either excluding or including missmatches and missing values. I decided to include them, except for checking effects of exclusion.\n",
    "\n",
    "soc_explore_data <- soc_explore_data[!is.na(soc_explore_data$previous_points) & !is.na(soc_explore_data$points),]\n",
    "\n",
    "player_soc_explore_summary <- create_player_soc_explore_summary(soc_explore_data)\n",
    "\n",
    "average_soc_explore_summary <- create_average_soc_explore_summary(soc_explore_data)\n",
    "\n",
    "trial_soc_explore_summary <- create_trial_soc_explore_summary(soc_explore_data)\n",
    "\n",
    "\n",
    "###iii. Repetition Action\n",
    "\n",
    "repeat_data <- create_repeat_data(action_data)\n",
    "\n",
    "repeat_summary <- create_repeat_summary(repeat_data)\n",
    "\n",
    "average_repeat_summary <- create_average_measures_repeated(repeat_data)"
   ]
  }
 ],
 "metadata": {
  "kernelspec": {
   "display_name": "R",
   "language": "R",
   "name": "ir"
  },
  "language_info": {
   "codemirror_mode": "r",
   "file_extension": ".r",
   "mimetype": "text/x-r-source",
   "name": "R",
   "pygments_lexer": "r",
   "version": "4.4.1"
  },
  "polyglot_notebook": {
   "kernelInfo": {
    "defaultKernelName": "csharp",
    "items": [
     {
      "aliases": [],
      "name": "csharp"
     }
    ]
   }
  }
 },
 "nbformat": 4,
 "nbformat_minor": 2
}
