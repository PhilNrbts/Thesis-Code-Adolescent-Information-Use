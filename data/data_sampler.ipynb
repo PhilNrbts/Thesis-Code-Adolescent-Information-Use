{
 "cells": [
  {
   "cell_type": "markdown",
   "metadata": {},
   "source": [
    "# Original Data Sampler and Anonymizer\n",
    "\n",
    "I used the omitted [original_data_social_all_participants.csv]() to create the anonymized mock dataset  [data_social_all_participants.csv](data_social_all_participants.csv).\n",
    "\n",
    "The file [original_column_names.csv](original_column_names.csv) contains the columns of the original data."
   ]
  },
  {
   "cell_type": "code",
   "execution_count": 51,
   "metadata": {},
   "outputs": [],
   "source": [
    "# Import necessary libraries\n",
    "import pandas as pd\n",
    "import random\n",
    "\n",
    "# Load the dataset from the CSV file\n",
    "df = pd.read_csv('original_data_social_all_participants.csv')\n",
    "\n",
    "# Save the column names to a new CSV file for reference\n",
    "column_names = df.columns.tolist()\n",
    "pd.DataFrame(column_names).to_csv('original_column_names.csv', index=False, header=False)\n",
    "\n",
    "# Remove unnecessary columns from the dataset\n",
    "columns_to_drop = ['participantNr', 'player', 'age']\n",
    "df = df.drop(columns=columns_to_drop)\n",
    "\n",
    "# Define the columns to anonymize\n",
    "unique_values = df['uniqueID'].unique()\n",
    "\n",
    "# Select 20 random unique values for anonymization\n",
    "selected_values = random.sample(list(unique_values), 20)\n",
    "\n",
    "# Filter the dataset to include only the selected unique values\n",
    "df = df[df['uniqueID'].isin(selected_values)]\n",
    "\n",
    "# Rename the selected unique values based on their order of selection\n",
    "selected_values.sort()\n",
    "df.loc[df['uniqueID'].isin(selected_values), 'uniqueID'] = df['uniqueID'].apply(lambda x: selected_values.index(x) + 1)\n",
    "\n",
    "# Define the 'group' and 'gender' columns based on the 'uniqueID' column\n",
    "df.loc[df['uniqueID'].apply(lambda x: x % 2 == 0), 'group'] = 'adolescents'\n",
    "df.loc[df['uniqueID'].apply(lambda x: x % 2 != 0), 'group'] = 'adult'\n",
    "df.loc[df['uniqueID'].apply(lambda x: x % 2 == 0), 'gender'] = 1\n",
    "df.loc[df['uniqueID'].apply(lambda x: x % 2 != 0), 'gender'] = 2\n",
    "\n",
    "# Remap the unique values in the 'unique_rounds' column to indices\n",
    "unique_rounds = df['unique_rounds'].unique()\n",
    "remapped_values = {value: i+1 for i, value in enumerate(unique_rounds)}\n",
    "df.loc[:, 'unique_rounds'] = df['unique_rounds'].map(remapped_values)\n",
    "\n",
    "# Save the processed dataset to a new CSV file\n",
    "test_df.to_csv('data_social_all_participants.csv', index=False)"
   ]
  }
 ],
 "metadata": {
  "kernelspec": {
   "display_name": "base",
   "language": "python",
   "name": "python3"
  },
  "language_info": {
   "codemirror_mode": {
    "name": "ipython",
    "version": 3
   },
   "file_extension": ".py",
   "mimetype": "text/x-python",
   "name": "python",
   "nbconvert_exporter": "python",
   "pygments_lexer": "ipython3",
   "version": "3.12.4"
  }
 },
 "nbformat": 4,
 "nbformat_minor": 2
}
